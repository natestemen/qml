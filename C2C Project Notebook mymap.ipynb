{
 "cells": [
  {
   "cell_type": "code",
   "execution_count": 1,
   "id": "8e9c29de",
   "metadata": {},
   "outputs": [],
   "source": [
    "from sklearn import svm\n",
    "from sklearn.decomposition import PCA\n",
    "import numpy as np\n",
    "import pandas as pd\n",
    "from scipy.io import loadmat"
   ]
  },
  {
   "cell_type": "code",
   "execution_count": 2,
   "id": "5317b342",
   "metadata": {},
   "outputs": [],
   "source": [
    "#General Imports\n",
    "import csv\n",
    "import math\n",
    "import matplotlib.pyplot as plt\n",
    "import pylab as pl\n",
    "\n",
    "#ScikitLearn Imports\n",
    "from sklearn import datasets\n",
    "from sklearn.model_selection import train_test_split\n",
    "\n",
    "#Qiskit imports\n",
    "from qiskit import QuantumCircuit, Aer,QuantumRegister, ClassicalRegister, execute, IBMQ\n",
    "from qiskit.circuit import ParameterVector,Parameter\n",
    "from qiskit.utils import QuantumInstance\n",
    "from qiskit.circuit.library import ZFeatureMap, ZZFeatureMap, PauliFeatureMap, TwoLocal\n",
    "from qiskit_machine_learning.circuit.library import RawFeatureVector\n",
    "from qiskit_machine_learning.kernels import QuantumKernel\n",
    "from qiskit_machine_learning.algorithms.classifiers import NeuralNetworkClassifier\n",
    "from qiskit_machine_learning.neural_networks import CircuitQNN, OpflowQNN\n",
    "from qiskit_machine_learning.utils.loss_functions import L2Loss, CrossEntropyLoss\n",
    "\n",
    "import os\n",
    "os.environ['QISKIT_IN_PARALLEL'] = 'TRUE'"
   ]
  },
  {
   "cell_type": "code",
   "execution_count": 3,
   "id": "43c1f60b",
   "metadata": {},
   "outputs": [],
   "source": [
    "# Constants\n",
    "SEED = 2508\n"
   ]
  },
  {
   "cell_type": "code",
   "execution_count": 4,
   "id": "626f1d26",
   "metadata": {},
   "outputs": [],
   "source": [
    "from qiskit import IBMQ\n",
    "from qiskit.visualization import plot_error_map"
   ]
  },
  {
   "cell_type": "code",
   "execution_count": 5,
   "id": "af6fccbb",
   "metadata": {},
   "outputs": [
    {
     "ename": "IBMQAccountCredentialsNotFound",
     "evalue": "'No IBM Quantum Experience credentials found.'",
     "output_type": "error",
     "traceback": [
      "\u001b[1;31m---------------------------------------------------------------------------\u001b[0m",
      "\u001b[1;31mIBMQAccountCredentialsNotFound\u001b[0m            Traceback (most recent call last)",
      "Input \u001b[1;32mIn [5]\u001b[0m, in \u001b[0;36m<module>\u001b[1;34m\u001b[0m\n\u001b[0;32m      1\u001b[0m \u001b[38;5;66;03m# IBMQ.save_account('YOUR TOKEN HERE')\u001b[39;00m\n\u001b[1;32m----> 2\u001b[0m \u001b[43mIBMQ\u001b[49m\u001b[38;5;241;43m.\u001b[39;49m\u001b[43mload_account\u001b[49m\u001b[43m(\u001b[49m\u001b[43m)\u001b[49m\n\u001b[0;32m      3\u001b[0m provider \u001b[38;5;241m=\u001b[39m IBMQ\u001b[38;5;241m.\u001b[39mget_provider(hub\u001b[38;5;241m=\u001b[39m\u001b[38;5;124m'\u001b[39m\u001b[38;5;124mibm-q-education\u001b[39m\u001b[38;5;124m'\u001b[39m,group\u001b[38;5;241m=\u001b[39m\u001b[38;5;124m'\u001b[39m\u001b[38;5;124mqscitech-quantum\u001b[39m\u001b[38;5;124m'\u001b[39m,project\u001b[38;5;241m=\u001b[39m\u001b[38;5;124m'\u001b[39m\u001b[38;5;124mqc-bc-workshop\u001b[39m\u001b[38;5;124m'\u001b[39m)\n",
      "File \u001b[1;32m~\\anaconda3\\envs\\workshop-qml\\lib\\site-packages\\qiskit\\providers\\ibmq\\ibmqfactory.py:167\u001b[0m, in \u001b[0;36mIBMQFactory.load_account\u001b[1;34m(self)\u001b[0m\n\u001b[0;32m    164\u001b[0m credentials_list \u001b[38;5;241m=\u001b[39m \u001b[38;5;28mlist\u001b[39m(stored_credentials\u001b[38;5;241m.\u001b[39mvalues())\n\u001b[0;32m    166\u001b[0m \u001b[38;5;28;01mif\u001b[39;00m \u001b[38;5;129;01mnot\u001b[39;00m credentials_list:\n\u001b[1;32m--> 167\u001b[0m     \u001b[38;5;28;01mraise\u001b[39;00m IBMQAccountCredentialsNotFound(\n\u001b[0;32m    168\u001b[0m         \u001b[38;5;124m'\u001b[39m\u001b[38;5;124mNo IBM Quantum Experience credentials found.\u001b[39m\u001b[38;5;124m'\u001b[39m)\n\u001b[0;32m    170\u001b[0m \u001b[38;5;28;01mif\u001b[39;00m \u001b[38;5;28mlen\u001b[39m(credentials_list) \u001b[38;5;241m>\u001b[39m \u001b[38;5;241m1\u001b[39m:\n\u001b[0;32m    171\u001b[0m     \u001b[38;5;28;01mraise\u001b[39;00m IBMQAccountMultipleCredentialsFound(\n\u001b[0;32m    172\u001b[0m         \u001b[38;5;124m'\u001b[39m\u001b[38;5;124mMultiple IBM Quantum Experience credentials found. \u001b[39m\u001b[38;5;124m'\u001b[39m \u001b[38;5;241m+\u001b[39m UPDATE_ACCOUNT_TEXT)\n",
      "\u001b[1;31mIBMQAccountCredentialsNotFound\u001b[0m: 'No IBM Quantum Experience credentials found.'"
     ]
    }
   ],
   "source": [
    "# IBMQ.save_account('YOUR TOKEN HERE')\n",
    "IBMQ.load_account()\n",
    "provider = IBMQ.get_provider(hub='ibm-q-education',group='qscitech-quantum',project='qc-bc-workshop')"
   ]
  },
  {
   "cell_type": "code",
   "execution_count": null,
   "id": "ad14a070",
   "metadata": {},
   "outputs": [],
   "source": [
    "ibmq_jakarta = provider.get_backend('ibmq_jakarta')\n",
    "plot_error_map(ibmq_jakarta)"
   ]
  },
  {
   "cell_type": "markdown",
   "id": "f4fa5d0e",
   "metadata": {},
   "source": [
    "# 1. Prepare Dataset"
   ]
  },
  {
   "cell_type": "markdown",
   "id": "9a14048a",
   "metadata": {},
   "source": [
    "**Dataset Information:**\n",
    "* Total examples: 1372 -- Dimensions: 5\n",
    "* Training set [to train a model]: \n",
    "* (Validation set [to benchmark different models and choose the best performer]):\n",
    "* Test set [to test actual performance of the best performer following validation]:"
   ]
  },
  {
   "cell_type": "code",
   "execution_count": 5,
   "id": "e4a20c23",
   "metadata": {},
   "outputs": [
    {
     "data": {
      "text/html": [
       "<div>\n",
       "<style scoped>\n",
       "    .dataframe tbody tr th:only-of-type {\n",
       "        vertical-align: middle;\n",
       "    }\n",
       "\n",
       "    .dataframe tbody tr th {\n",
       "        vertical-align: top;\n",
       "    }\n",
       "\n",
       "    .dataframe thead th {\n",
       "        text-align: right;\n",
       "    }\n",
       "</style>\n",
       "<table border=\"1\" class=\"dataframe\">\n",
       "  <thead>\n",
       "    <tr style=\"text-align: right;\">\n",
       "      <th></th>\n",
       "      <th>3.6216</th>\n",
       "      <th>8.6661</th>\n",
       "      <th>-2.8073</th>\n",
       "      <th>-0.44699</th>\n",
       "      <th>0</th>\n",
       "    </tr>\n",
       "  </thead>\n",
       "  <tbody>\n",
       "    <tr>\n",
       "      <th>0</th>\n",
       "      <td>4.54590</td>\n",
       "      <td>8.16740</td>\n",
       "      <td>-2.4586</td>\n",
       "      <td>-1.46210</td>\n",
       "      <td>0</td>\n",
       "    </tr>\n",
       "    <tr>\n",
       "      <th>1</th>\n",
       "      <td>3.86600</td>\n",
       "      <td>-2.63830</td>\n",
       "      <td>1.9242</td>\n",
       "      <td>0.10645</td>\n",
       "      <td>0</td>\n",
       "    </tr>\n",
       "    <tr>\n",
       "      <th>2</th>\n",
       "      <td>3.45660</td>\n",
       "      <td>9.52280</td>\n",
       "      <td>-4.0112</td>\n",
       "      <td>-3.59440</td>\n",
       "      <td>0</td>\n",
       "    </tr>\n",
       "    <tr>\n",
       "      <th>3</th>\n",
       "      <td>0.32924</td>\n",
       "      <td>-4.45520</td>\n",
       "      <td>4.5718</td>\n",
       "      <td>-0.98880</td>\n",
       "      <td>0</td>\n",
       "    </tr>\n",
       "    <tr>\n",
       "      <th>4</th>\n",
       "      <td>4.36840</td>\n",
       "      <td>9.67180</td>\n",
       "      <td>-3.9606</td>\n",
       "      <td>-3.16250</td>\n",
       "      <td>0</td>\n",
       "    </tr>\n",
       "    <tr>\n",
       "      <th>...</th>\n",
       "      <td>...</td>\n",
       "      <td>...</td>\n",
       "      <td>...</td>\n",
       "      <td>...</td>\n",
       "      <td>...</td>\n",
       "    </tr>\n",
       "    <tr>\n",
       "      <th>1366</th>\n",
       "      <td>0.40614</td>\n",
       "      <td>1.34920</td>\n",
       "      <td>-1.4501</td>\n",
       "      <td>-0.55949</td>\n",
       "      <td>1</td>\n",
       "    </tr>\n",
       "    <tr>\n",
       "      <th>1367</th>\n",
       "      <td>-1.38870</td>\n",
       "      <td>-4.87730</td>\n",
       "      <td>6.4774</td>\n",
       "      <td>0.34179</td>\n",
       "      <td>1</td>\n",
       "    </tr>\n",
       "    <tr>\n",
       "      <th>1368</th>\n",
       "      <td>-3.75030</td>\n",
       "      <td>-13.45860</td>\n",
       "      <td>17.5932</td>\n",
       "      <td>-2.77710</td>\n",
       "      <td>1</td>\n",
       "    </tr>\n",
       "    <tr>\n",
       "      <th>1369</th>\n",
       "      <td>-3.56370</td>\n",
       "      <td>-8.38270</td>\n",
       "      <td>12.3930</td>\n",
       "      <td>-1.28230</td>\n",
       "      <td>1</td>\n",
       "    </tr>\n",
       "    <tr>\n",
       "      <th>1370</th>\n",
       "      <td>-2.54190</td>\n",
       "      <td>-0.65804</td>\n",
       "      <td>2.6842</td>\n",
       "      <td>1.19520</td>\n",
       "      <td>1</td>\n",
       "    </tr>\n",
       "  </tbody>\n",
       "</table>\n",
       "<p>1371 rows × 5 columns</p>\n",
       "</div>"
      ],
      "text/plain": [
       "       3.6216    8.6661  -2.8073  -0.44699  0\n",
       "0     4.54590   8.16740  -2.4586  -1.46210  0\n",
       "1     3.86600  -2.63830   1.9242   0.10645  0\n",
       "2     3.45660   9.52280  -4.0112  -3.59440  0\n",
       "3     0.32924  -4.45520   4.5718  -0.98880  0\n",
       "4     4.36840   9.67180  -3.9606  -3.16250  0\n",
       "...       ...       ...      ...       ... ..\n",
       "1366  0.40614   1.34920  -1.4501  -0.55949  1\n",
       "1367 -1.38870  -4.87730   6.4774   0.34179  1\n",
       "1368 -3.75030 -13.45860  17.5932  -2.77710  1\n",
       "1369 -3.56370  -8.38270  12.3930  -1.28230  1\n",
       "1370 -2.54190  -0.65804   2.6842   1.19520  1\n",
       "\n",
       "[1371 rows x 5 columns]"
      ]
     },
     "execution_count": 5,
     "metadata": {},
     "output_type": "execute_result"
    }
   ],
   "source": [
    "datafile = pd.read_csv(\"banknote_auth_full.txt\",header=0)\n",
    "datafile"
   ]
  },
  {
   "cell_type": "code",
   "execution_count": 6,
   "id": "5102af7d",
   "metadata": {},
   "outputs": [
    {
     "name": "stdout",
     "output_type": "stream",
     "text": [
      "(100, 5) -- 100 examples ; 5 features\n"
     ]
    }
   ],
   "source": [
    "data = datafile.to_numpy()\n",
    "print(f'{data.shape} -- {data.shape[0]} examples ; {data.shape[1]} features')\n",
    "# TODO: split the dataset to: Training set (100 points only), (Validation set), Test set\n",
    "# TODO: might need to scale (or, normalize) the features -- explanation: in gradient-based ML, we want all features to be\n",
    "# at the same scale (e.g., all between [-1,1]) to optimize learning performance.\n",
    "# Here, we have features 1 and 2 can have value upto +/-20, which is very large compared to other features --> need scaling"
   ]
  },
  {
   "cell_type": "code",
   "execution_count": 6,
   "id": "95b3b7bf",
   "metadata": {},
   "outputs": [
    {
     "data": {
      "text/html": [
       "<div>\n",
       "<style scoped>\n",
       "    .dataframe tbody tr th:only-of-type {\n",
       "        vertical-align: middle;\n",
       "    }\n",
       "\n",
       "    .dataframe tbody tr th {\n",
       "        vertical-align: top;\n",
       "    }\n",
       "\n",
       "    .dataframe thead th {\n",
       "        text-align: right;\n",
       "    }\n",
       "</style>\n",
       "<table border=\"1\" class=\"dataframe\">\n",
       "  <thead>\n",
       "    <tr style=\"text-align: right;\">\n",
       "      <th></th>\n",
       "      <th>3.6216</th>\n",
       "      <th>8.6661</th>\n",
       "      <th>-2.8073</th>\n",
       "      <th>-0.44699</th>\n",
       "      <th>0</th>\n",
       "    </tr>\n",
       "  </thead>\n",
       "  <tbody>\n",
       "    <tr>\n",
       "      <th>0</th>\n",
       "      <td>4.54590</td>\n",
       "      <td>8.16740</td>\n",
       "      <td>-2.4586</td>\n",
       "      <td>-1.46210</td>\n",
       "      <td>0</td>\n",
       "    </tr>\n",
       "    <tr>\n",
       "      <th>1</th>\n",
       "      <td>3.86600</td>\n",
       "      <td>-2.63830</td>\n",
       "      <td>1.9242</td>\n",
       "      <td>0.10645</td>\n",
       "      <td>0</td>\n",
       "    </tr>\n",
       "    <tr>\n",
       "      <th>2</th>\n",
       "      <td>3.45660</td>\n",
       "      <td>9.52280</td>\n",
       "      <td>-4.0112</td>\n",
       "      <td>-3.59440</td>\n",
       "      <td>0</td>\n",
       "    </tr>\n",
       "    <tr>\n",
       "      <th>3</th>\n",
       "      <td>0.32924</td>\n",
       "      <td>-4.45520</td>\n",
       "      <td>4.5718</td>\n",
       "      <td>-0.98880</td>\n",
       "      <td>0</td>\n",
       "    </tr>\n",
       "    <tr>\n",
       "      <th>4</th>\n",
       "      <td>4.36840</td>\n",
       "      <td>9.67180</td>\n",
       "      <td>-3.9606</td>\n",
       "      <td>-3.16250</td>\n",
       "      <td>0</td>\n",
       "    </tr>\n",
       "    <tr>\n",
       "      <th>...</th>\n",
       "      <td>...</td>\n",
       "      <td>...</td>\n",
       "      <td>...</td>\n",
       "      <td>...</td>\n",
       "      <td>...</td>\n",
       "    </tr>\n",
       "    <tr>\n",
       "      <th>1366</th>\n",
       "      <td>0.40614</td>\n",
       "      <td>1.34920</td>\n",
       "      <td>-1.4501</td>\n",
       "      <td>-0.55949</td>\n",
       "      <td>1</td>\n",
       "    </tr>\n",
       "    <tr>\n",
       "      <th>1367</th>\n",
       "      <td>-1.38870</td>\n",
       "      <td>-4.87730</td>\n",
       "      <td>6.4774</td>\n",
       "      <td>0.34179</td>\n",
       "      <td>1</td>\n",
       "    </tr>\n",
       "    <tr>\n",
       "      <th>1368</th>\n",
       "      <td>-3.75030</td>\n",
       "      <td>-13.45860</td>\n",
       "      <td>17.5932</td>\n",
       "      <td>-2.77710</td>\n",
       "      <td>1</td>\n",
       "    </tr>\n",
       "    <tr>\n",
       "      <th>1369</th>\n",
       "      <td>-3.56370</td>\n",
       "      <td>-8.38270</td>\n",
       "      <td>12.3930</td>\n",
       "      <td>-1.28230</td>\n",
       "      <td>1</td>\n",
       "    </tr>\n",
       "    <tr>\n",
       "      <th>1370</th>\n",
       "      <td>-2.54190</td>\n",
       "      <td>-0.65804</td>\n",
       "      <td>2.6842</td>\n",
       "      <td>1.19520</td>\n",
       "      <td>1</td>\n",
       "    </tr>\n",
       "  </tbody>\n",
       "</table>\n",
       "<p>1371 rows × 5 columns</p>\n",
       "</div>"
      ],
      "text/plain": [
       "       3.6216    8.6661  -2.8073  -0.44699  0\n",
       "0     4.54590   8.16740  -2.4586  -1.46210  0\n",
       "1     3.86600  -2.63830   1.9242   0.10645  0\n",
       "2     3.45660   9.52280  -4.0112  -3.59440  0\n",
       "3     0.32924  -4.45520   4.5718  -0.98880  0\n",
       "4     4.36840   9.67180  -3.9606  -3.16250  0\n",
       "...       ...       ...      ...       ... ..\n",
       "1366  0.40614   1.34920  -1.4501  -0.55949  1\n",
       "1367 -1.38870  -4.87730   6.4774   0.34179  1\n",
       "1368 -3.75030 -13.45860  17.5932  -2.77710  1\n",
       "1369 -3.56370  -8.38270  12.3930  -1.28230  1\n",
       "1370 -2.54190  -0.65804   2.6842   1.19520  1\n",
       "\n",
       "[1371 rows x 5 columns]"
      ]
     },
     "execution_count": 6,
     "metadata": {},
     "output_type": "execute_result"
    }
   ],
   "source": [
    "datafile_100 = pd.read_csv(\"banknote_auth_full.txt\",header=0)\n",
    "datafile_100"
   ]
  },
  {
   "cell_type": "code",
   "execution_count": 7,
   "id": "4b92480a",
   "metadata": {},
   "outputs": [
    {
     "name": "stdout",
     "output_type": "stream",
     "text": [
      "(1371, 5) -- 1371 examples ; 5 features\n"
     ]
    }
   ],
   "source": [
    "data_100 = datafile_100.to_numpy()\n",
    "print(f'{data_100.shape} -- {data_100.shape[0]} examples ; {data_100.shape[1]} features')"
   ]
  },
  {
   "cell_type": "code",
   "execution_count": 8,
   "id": "da5e5ef5",
   "metadata": {},
   "outputs": [
    {
     "name": "stdout",
     "output_type": "stream",
     "text": [
      "4 number of features\n",
      "(1371, 4) -- (1371, 1)\n"
     ]
    }
   ],
   "source": [
    "xdata_100, ydata_100 = np.hsplit(data_100, [4])\n",
    "feature_dim=np.shape(xdata_100)[1]\n",
    "print(f'{feature_dim} number of features')\n",
    "xdata_100\n",
    "ydata_100\n",
    "print(f'{xdata_100.shape} -- {ydata_100.shape}')"
   ]
  },
  {
   "cell_type": "code",
   "execution_count": 9,
   "id": "39b7cb99",
   "metadata": {},
   "outputs": [],
   "source": [
    "test_ratio=0.9\n",
    "seed=2456"
   ]
  },
  {
   "cell_type": "code",
   "execution_count": 10,
   "id": "35f607db",
   "metadata": {},
   "outputs": [
    {
     "name": "stdout",
     "output_type": "stream",
     "text": [
      "(137, 4) -- (137, 1)\n",
      "(1234, 4) -- (1234, 1)\n",
      "[0.]\n",
      "0.0\n"
     ]
    }
   ],
   "source": [
    "x_train, x_test, y_train, y_test = train_test_split(xdata_100, ydata_100, test_size=test_ratio, random_state=seed)\n",
    "print(f'{x_train.shape} -- {y_train.shape}')\n",
    "print(f'{x_test.shape} -- {y_test.shape}')\n",
    "#x_train[4]\n",
    "print(y_train[4])\n",
    "y_train = np.reshape(y_train, -1)\n",
    "print(y_train[1])\n",
    "y_test = np.reshape(y_test, -1)\n",
    "#print(x_train[4])"
   ]
  },
  {
   "cell_type": "code",
   "execution_count": 28,
   "id": "48917db2",
   "metadata": {},
   "outputs": [
    {
     "data": {
      "text/plain": [
       "array([1., 0., 0., 1., 0., 1., 1., 1., 1., 1., 0., 0., 0., 0., 0., 1., 1.,\n",
       "       1., 0., 0., 1., 0., 0., 0., 0., 0., 0., 0., 0., 1., 0., 0., 0., 1.,\n",
       "       0., 1., 0., 0., 0., 0., 1., 1., 1., 1., 0., 1., 0., 1., 1., 0., 0.,\n",
       "       1., 1., 0., 1., 1., 0., 1., 0., 1., 1., 1., 1., 1., 0., 0., 0., 0.,\n",
       "       0., 0., 0., 0., 0., 1., 1., 0., 0., 0., 1., 1., 0., 0., 0., 0., 0.,\n",
       "       1., 0., 0., 0., 1., 1., 1., 1., 0., 0., 0., 0., 0., 0., 0., 1., 0.,\n",
       "       0., 1., 1., 0., 0., 1., 1., 1., 0., 1., 0., 0., 0., 0., 1., 1., 1.,\n",
       "       1., 1., 0., 1., 1., 0., 1., 1., 1., 1., 1., 0., 1., 1., 0., 1., 0.,\n",
       "       0.])"
      ]
     },
     "execution_count": 28,
     "metadata": {},
     "output_type": "execute_result"
    }
   ],
   "source": [
    "y_train"
   ]
  },
  {
   "cell_type": "markdown",
   "id": "3f3ce4be",
   "metadata": {},
   "source": [
    "# 2. VQC from scratch"
   ]
  },
  {
   "cell_type": "markdown",
   "id": "ec7d53e2",
   "metadata": {},
   "source": [
    "## 2.1. Prepare encoders and ansatz"
   ]
  },
  {
   "cell_type": "code",
   "execution_count": 51,
   "id": "e684879c",
   "metadata": {},
   "outputs": [
    {
     "data": {
      "image/png": "[encoded data removed]",
      "text/plain": [
       "<Figure size 2219.99x529.76 with 1 Axes>"
      ]
     },
     "execution_count": 51,
     "metadata": {},
     "output_type": "execute_result"
    }
   ],
   "source": [
    "def get_zz_feature_map(feature_dim, feature_map_rep, ent):\n",
    "    return ZZFeatureMap(feature_dimension=feature_dim, reps=feature_map_rep, entanglement=ent)\n",
    "\n",
    "fmap_zz = get_zz_feature_map(feature_dim, 1, 'linear')\n",
    "fmap_zz.decompose().draw('mpl', scale=2)"
   ]
  },
  {
   "cell_type": "code",
   "execution_count": 32,
   "id": "b2fe8fcd",
   "metadata": {},
   "outputs": [
    {
     "data": {
      "image/png": "[encoded data removed]",
      "text/plain": [
       "<Figure size 654.795x529.76 with 1 Axes>"
      ]
     },
     "execution_count": 32,
     "metadata": {},
     "output_type": "execute_result"
    }
   ],
   "source": [
    "def get_z_feature_map(feature_dim, feature_map_rep):\n",
    "    return ZFeatureMap(feature_dimension=feature_dim, reps=feature_map_rep)\n",
    "\n",
    "fmap_z = get_z_feature_map(feature_dim, 2)\n",
    "fmap_z.decompose().draw('mpl', scale=2)"
   ]
  },
  {
   "cell_type": "code",
   "execution_count": 61,
   "id": "8e1c7ad1",
   "metadata": {},
   "outputs": [
    {
     "data": {
      "image/png": "[encoded data removed]",
      "text/plain": [
       "<Figure size 413.995x529.76 with 1 Axes>"
      ]
     },
     "execution_count": 61,
     "metadata": {},
     "output_type": "execute_result"
    }
   ],
   "source": [
    "def get_my_map(feature_dim, feature_map_rep):\n",
    "    \n",
    "    data_params = ParameterVector('x', 4)\n",
    "    \n",
    "    model_circuit = QuantumCircuit(4)\n",
    "    ### Let's code here\n",
    "    \n",
    "    for l in range(0,feature_map_rep):\n",
    "        model_circuit.ry(data_params[0],0)\n",
    "        model_circuit.ry(data_params[1],1)\n",
    "        model_circuit.ry(data_params[2],2)\n",
    "        model_circuit.ry(data_params[3],3)\n",
    "        \n",
    "        \n",
    "        model_circuit.rz(data_params[0],0)\n",
    "        model_circuit.rz(data_params[1],1)\n",
    "        model_circuit.rz(data_params[2],2)\n",
    "        model_circuit.rz(data_params[3],3)\n",
    "       \n",
    "        \n",
    "\n",
    "\n",
    "    ###\n",
    "    \n",
    "    return model_circuit\n",
    "\n",
    "\n",
    "mymap = get_my_map(feature_dim, 1)\n",
    "mymap.decompose().draw('mpl', scale=2)"
   ]
  },
  {
   "cell_type": "code",
   "execution_count": 12,
   "id": "42f2b4ee",
   "metadata": {},
   "outputs": [],
   "source": [
    "# Define function(s) to generate the encoder circuit\n",
    "# TODO: implement different designs for data encoding (one function for each)\n",
    "def encoder_circuit_1(data_x,_):\n",
    "    \"\"\"\n",
    "    Args:\n",
    "        data_x [np.array] : one data example\n",
    "        (...)\n",
    "    Returns:\n",
    "        encoder_circuit [QuantumCircuit] : encoder circuit for input data example\n",
    "    \"\"\"\n",
    "    encoder_circuit = None\n",
    "    return encoder_circuit"
   ]
  },
  {
   "cell_type": "markdown",
   "id": "70c3d26d",
   "metadata": {},
   "source": [
    "## 2.2. Prepare Ansatz"
   ]
  },
  {
   "cell_type": "code",
   "execution_count": 13,
   "id": "a0ca1961",
   "metadata": {},
   "outputs": [
    {
     "data": {
      "image/png": "[encoded data removed]",
      "text/plain": [
       "<Figure size 1015.99x529.76 with 1 Axes>"
      ]
     },
     "execution_count": 13,
     "metadata": {},
     "output_type": "execute_result"
    }
   ],
   "source": [
    "def get_two_locals(feature_dim, rotations, var_form_rep, ent):\n",
    "    return TwoLocal(num_qubits=feature_dim, rotation_blocks=rotations, entanglement_blocks='cx', entanglement=ent, reps=var_form_rep)\n",
    "\n",
    "ansatz_tl = get_two_locals(feature_dim, ['ry', 'rz'], 1, 'linear')\n",
    "ansatz_tl.decompose().draw('mpl', scale=2)"
   ]
  },
  {
   "cell_type": "code",
   "execution_count": 14,
   "id": "579832c1",
   "metadata": {},
   "outputs": [],
   "source": [
    "# Define function(s) to generate the ansatz\n",
    "# TODO: implement different ansatz designs (one function for each)\n",
    "def ansatz_1(n_qubits,_):\n",
    "    \"\"\"\n",
    "    Args:\n",
    "        n_qubits [int] : number of qubits in the circuit\n",
    "        (...other necessary args -- e.g., n_layers)\n",
    "    Returns:\n",
    "        ansatz [QuantumCircuit] : parameterized ansatz circuit\n",
    "        ansatz_params [ParameterVector] : parameter vector of the ansatz\n",
    "    \"\"\"\n",
    "    ansatz = None\n",
    "    ansatz_params = None\n",
    "    return ansatz, ansatz_params"
   ]
  },
  {
   "cell_type": "code",
   "execution_count": 62,
   "id": "efd50395",
   "metadata": {},
   "outputs": [
    {
     "data": {
      "image/png": "[encoded data removed]",
      "text/plain": [
       "<Figure size 1497.59x529.76 with 1 Axes>"
      ]
     },
     "execution_count": 62,
     "metadata": {},
     "output_type": "execute_result"
    }
   ],
   "source": [
    "#var_circuit = fmap_zz.compose(ansatz_tl)\n",
    "#var_circuit = fmap_z.compose(ansatz_tl)\n",
    "var_circuit = mymap.compose(ansatz_tl)\n",
    "var_circuit.draw('mpl',scale=2)"
   ]
  },
  {
   "cell_type": "code",
   "execution_count": 19,
   "id": "8c3823ec",
   "metadata": {},
   "outputs": [],
   "source": [
    "# TODO: Define function to generate all data encoder circuits (one for each example in the dataset)\n",
    "# Preparing and cache all encoder circuits to concatenate with ansatz later\n",
    "def get_all_encoders(data_mat, encoder_func,_):\n",
    "    \"\"\"\n",
    "    Args:\n",
    "        data_mat [np.array] : of shape (n_samples,n_features) -- matrix containing all examples\n",
    "        encoder_func [function] : callable to generate encoder circuit (e.g., encoder_circuit_1)\n",
    "        (...)\n",
    "    Returns:\n",
    "        all_encoders [list(QuantumCircuit)] : list of all encoder circuits (one for each example)\n",
    "    \"\"\"\n",
    "    all_encoders = []\n",
    "    # pseudo-code: for 'example' in 'data_mat': all_encoders.append(encoder_func('example'))\n",
    "    return all_encoders"
   ]
  },
  {
   "cell_type": "code",
   "execution_count": 20,
   "id": "a41509c5",
   "metadata": {},
   "outputs": [],
   "source": [
    "# TODO: Define function to generate all VQC circuits (one for each example)\n",
    "def get_all_circuits(all_encoders, ansatz_func, _):\n",
    "    \"\"\"\n",
    "    Args:\n",
    "        all_encoders [list(QuantumCircuit)] : list of all encoder circuits (one for each example)\n",
    "        ansatz_func [function] : callable to generate ansatz circuit (e.g., ansatz_1)\n",
    "        (...)\n",
    "    Returns:\n",
    "        all_circuits [list(QuantumCircuit)] : list of all VQC circuits (one for each example)\n",
    "    \"\"\"\n",
    "    all_circuits = []\n",
    "    return all_circuits"
   ]
  },
  {
   "cell_type": "code",
   "execution_count": 38,
   "id": "8de76423",
   "metadata": {},
   "outputs": [],
   "source": [
    "# Create a quantum instance to wrap the execution of circuits\n",
    "qinstVQC = QuantumInstance(Aer.get_backend('statevector_simulator'))\n",
    "# or, real hardware backend qinst = ...."
   ]
  },
  {
   "cell_type": "code",
   "execution_count": 22,
   "id": "d5c99842",
   "metadata": {},
   "outputs": [],
   "source": [
    "# TODO: Define function to calculate target values (can be expectation value or sampling probability)\n",
    "def get_all_target_vals(all_results,_):\n",
    "    \"\"\"\n",
    "    Args:\n",
    "        all_results [Result] : output wrapper of all results from executing the VQC circuits\n",
    "        (...)\n",
    "    Returns:\n",
    "        target_val [list(float)] : target values for classification (e.g., expectation value), one for each example\n",
    "    \"\"\"\n",
    "    target_vals = []\n",
    "    return target_vals"
   ]
  },
  {
   "cell_type": "code",
   "execution_count": 23,
   "id": "6f012781",
   "metadata": {},
   "outputs": [],
   "source": [
    "# TODO: Define function to calculate cost function given all target vals (there can be multiple designs for cost function)\n",
    "def calculate_cost_function(target_vals,true_labels,_):\n",
    "    \"\"\"\n",
    "    Args:\n",
    "        target_vals [list(float)] : target values for classification (e.g., expectation value), one for each example\n",
    "        true_labels [np.array] : vector containing true labels for each example (0 or 1)\n",
    "        (...)\n",
    "    Returns:\n",
    "        cost [float] : total cost for current instance\n",
    "    \"\"\"\n",
    "    cost = 0\n",
    "    return cost"
   ]
  },
  {
   "cell_type": "markdown",
   "id": "04033f08",
   "metadata": {},
   "source": [
    "## 2.3 Prepare measurement"
   ]
  },
  {
   "cell_type": "code",
   "execution_count": 19,
   "id": "43889ed3",
   "metadata": {},
   "outputs": [],
   "source": [
    "# for multi-class problem this works\n",
    "def parity(x, num_classes):\n",
    "    return f\"{x:b}\".count(\"1\") % num_classes\n",
    "\n",
    "\n",
    "# for multi-class problem this needs to be changed\n",
    "def one_qubit_binary(x):\n",
    "    return x % 2"
   ]
  },
  {
   "cell_type": "markdown",
   "id": "24e58cd9",
   "metadata": {},
   "source": [
    "## 2.2. Training Implementation"
   ]
  },
  {
   "cell_type": "code",
   "execution_count": 20,
   "id": "c7a751b7",
   "metadata": {},
   "outputs": [],
   "source": [
    "from qiskit.algorithms.optimizers import SPSA, COBYLA, SLSQP, ADAM"
   ]
  },
  {
   "cell_type": "code",
   "execution_count": null,
   "id": "bf98d35a",
   "metadata": {},
   "outputs": [],
   "source": [
    "# TODO: Define training wrapper \n",
    "# TODO: Run optimization and plot loss curve\n",
    "# (...)"
   ]
  },
  {
   "cell_type": "markdown",
   "id": "41d39d00",
   "metadata": {},
   "source": [
    "## 2.3. Results Discussion"
   ]
  },
  {
   "cell_type": "markdown",
   "id": "27706b70",
   "metadata": {},
   "source": [
    "e.g., what method worked best, what did we learn about the problem?"
   ]
  },
  {
   "cell_type": "markdown",
   "id": "60bafce6",
   "metadata": {},
   "source": [
    "# 3. VQC using Qiskit QNN Classes"
   ]
  },
  {
   "cell_type": "code",
   "execution_count": 39,
   "id": "6d2e048b",
   "metadata": {},
   "outputs": [],
   "source": [
    "qasm_sim = Aer.get_backend('qasm_simulator')\n",
    "qinst_qasm = QuantumInstance(qasm_sim, 2048)"
   ]
  },
  {
   "cell_type": "markdown",
   "id": "29193868",
   "metadata": {},
   "source": [
    "## 3.1. Circuit QNN"
   ]
  },
  {
   "cell_type": "code",
   "execution_count": 178,
   "id": "27b70a82",
   "metadata": {},
   "outputs": [
    {
     "data": {
      "text/plain": [
       "ParameterView([ParameterVectorElement(x[0]), ParameterVectorElement(x[1]), ParameterVectorElement(x[2]), ParameterVectorElement(x[3])])"
      ]
     },
     "execution_count": 178,
     "metadata": {},
     "output_type": "execute_result"
    }
   ],
   "source": [
    "fmap_z.parameters"
   ]
  },
  {
   "cell_type": "code",
   "execution_count": 63,
   "id": "9386a207",
   "metadata": {},
   "outputs": [],
   "source": [
    "num_classes = 2\n",
    "qnn = CircuitQNN(circuit=var_circuit,\n",
    "                 #input_params=fmap_z.parameters,\n",
    "                 #input_params=fmap_zz.parameters,  # if your embedding strategy is not a parametrized circuit \n",
    "                 input_params=mymap.parameters,                                  # (e.g. amplitude encoding) you will have to do some extra work!\n",
    "                 weight_params=ansatz_tl.parameters,  # if you train your embedding as well, the trainable\n",
    "                                                      # parameters of the embedding must be added\n",
    "                 interpret=one_qubit_binary,\n",
    "                 output_shape=num_classes,\n",
    "                 gradient=None,\n",
    "                 quantum_instance=qinst_qasm)"
   ]
  },
  {
   "cell_type": "markdown",
   "id": "bb530ffe",
   "metadata": {},
   "source": [
    "### Forward pass"
   ]
  },
  {
   "cell_type": "code",
   "execution_count": 58,
   "id": "94b3e417",
   "metadata": {},
   "outputs": [
    {
     "name": "stdout",
     "output_type": "stream",
     "text": [
      "(1, 2)\n"
     ]
    },
    {
     "data": {
      "text/plain": [
       "array([[0.58886719, 0.41113281]])"
      ]
     },
     "execution_count": 58,
     "metadata": {},
     "output_type": "execute_result"
    }
   ],
   "source": [
    "# The result of the neural network of the shape (output_shape).\n",
    "weights = np.random.random(len(ansatz_tl.parameters))\n",
    "\n",
    "output = qnn.forward(x_train[1], weights)\n",
    "print(output.shape)\n",
    "output"
   ]
  },
  {
   "cell_type": "markdown",
   "id": "e3d2709e",
   "metadata": {},
   "source": [
    "### Backward pass"
   ]
  },
  {
   "cell_type": "code",
   "execution_count": 42,
   "id": "2c8f535e",
   "metadata": {},
   "outputs": [
    {
     "name": "stdout",
     "output_type": "stream",
     "text": [
      "[[[ 4.10644531e-01  9.76562500e-04 -2.44140625e-03 -1.46484375e-03\n",
      "   -1.20361328e-01 -8.66699219e-02 -1.95312500e-03  1.46484375e-03\n",
      "    2.52929688e-01  2.44140625e-04 -1.34277344e-02 -7.32421875e-04\n",
      "   -6.10351563e-03 -5.12695313e-03 -2.44140625e-04  6.59179687e-03]\n",
      "  [-4.10644531e-01 -9.76562500e-04  2.44140625e-03  1.46484375e-03\n",
      "    1.20361328e-01  8.66699219e-02  1.95312500e-03 -1.46484375e-03\n",
      "   -2.52929688e-01 -2.44140625e-04  1.34277344e-02  7.32421875e-04\n",
      "    6.10351562e-03  5.12695313e-03  2.44140625e-04 -6.59179687e-03]]]\n",
      "(1, 2, 16)\n"
     ]
    }
   ],
   "source": [
    "_, update = qnn.backward(x_train[0], weights)\n",
    "print(update)\n",
    "print(update.shape)"
   ]
  },
  {
   "cell_type": "markdown",
   "id": "2f93622d",
   "metadata": {},
   "source": [
    "### 3.1.1. Prepare encoder, ansatz, and interpreter"
   ]
  },
  {
   "cell_type": "code",
   "execution_count": 53,
   "id": "e56a3258",
   "metadata": {},
   "outputs": [],
   "source": [
    "def get_one_hot_encoding(y):\n",
    "    unique_labels = np.unique(y, axis=0)\n",
    "    y_one_hot = [(np.eye(len(unique_labels))[np.where(unique_labels == y_i)]).reshape(len(unique_labels)) for y_i in y]\n",
    "\n",
    "    return np.array(y_one_hot)\n",
    "\n",
    "y_train_1h = get_one_hot_encoding(y_train)\n",
    "y_test_1h = get_one_hot_encoding(y_test)"
   ]
  },
  {
   "cell_type": "code",
   "execution_count": 95,
   "id": "21ff3f59",
   "metadata": {},
   "outputs": [
    {
     "name": "stdout",
     "output_type": "stream",
     "text": [
      "1.0\n",
      "[0. 1.]\n",
      "0.0\n",
      "[1. 0.]\n"
     ]
    }
   ],
   "source": [
    "print(y_train[0])\n",
    "print(y_train_1h[0])\n",
    "\n",
    "print(y_train[4])\n",
    "print(y_train_1h[4])"
   ]
  },
  {
   "cell_type": "code",
   "execution_count": 25,
   "id": "a60e68f8",
   "metadata": {},
   "outputs": [],
   "source": [
    "def callback(nfev, params, fval, stepsize, accepted=None):\n",
    "    \"\"\"\n",
    "    Can be used for SPSA and GradientDescent optimizers\n",
    "    nfev: the number of function evals\n",
    "    params: the current parameters\n",
    "    fval: the current function value\n",
    "    stepsize: size of the update step\n",
    "    accepted: whether the step was accepted (not used for )\n",
    "    \"\"\"\n",
    "    global loss_recorder\n",
    "\n",
    "    loss_recorder.append(fval)\n",
    "    print(f'{nfev} - {fval}')"
   ]
  },
  {
   "cell_type": "markdown",
   "id": "b3509e97",
   "metadata": {},
   "source": [
    "### 3.1.2. Training Implementation"
   ]
  },
  {
   "cell_type": "code",
   "execution_count": 64,
   "id": "8acb5c32",
   "metadata": {},
   "outputs": [
    {
     "name": "stdout",
     "output_type": "stream",
     "text": [
      "3 - 128.82010609903728\n",
      "6 - 125.54816363562153\n",
      "9 - 124.6806356150212\n",
      "12 - 118.17676552583133\n",
      "15 - 112.2683271041748\n",
      "18 - 111.75525702912807\n",
      "21 - 107.00321139981949\n",
      "24 - 106.94785221897195\n",
      "27 - 105.39814926215539\n",
      "30 - 105.20382668735863\n",
      "33 - 105.17032773620139\n",
      "36 - 102.8521201035623\n",
      "39 - 102.73573834311935\n",
      "42 - 102.01463013231034\n",
      "45 - 102.03689702261175\n",
      "48 - 100.15862179850001\n",
      "51 - 100.32312146944139\n",
      "54 - 99.75719616003158\n",
      "57 - 99.70617473006618\n",
      "60 - 99.22263045333335\n",
      "63 - 99.44095531335982\n",
      "66 - 98.80119093530999\n",
      "69 - 98.37864851128018\n",
      "72 - 98.52834665701401\n",
      "75 - 97.88221598064003\n",
      "78 - 97.99046119747759\n",
      "81 - 98.33309442331904\n",
      "84 - 98.6921692473581\n",
      "87 - 98.25353682162196\n",
      "90 - 98.07721599756097\n",
      "93 - 98.24234630621869\n",
      "96 - 97.42540781285973\n",
      "99 - 97.0590208446335\n",
      "102 - 97.51995138673004\n",
      "105 - 97.31601912699145\n",
      "108 - 97.31840616500217\n",
      "111 - 96.69878348232199\n",
      "114 - 96.57949798207756\n",
      "117 - 95.95603586572159\n",
      "120 - 96.15950469137968\n",
      "123 - 95.67814322551637\n",
      "126 - 96.2613374164643\n",
      "129 - 95.64193308717898\n",
      "132 - 95.52427772964748\n",
      "135 - 95.28699979805407\n",
      "138 - 96.01159988592848\n",
      "141 - 95.58586858560815\n",
      "144 - 95.2240410427942\n",
      "147 - 95.5177903076358\n",
      "150 - 94.6181932720829\n"
     ]
    }
   ],
   "source": [
    "max_itr = 50\n",
    "spsa_opt = SPSA(maxiter=max_itr, callback=callback)\n",
    "loss_recorder = []\n",
    "initial_point = np.random.random((len(ansatz_tl.parameters),))\n",
    "vqc = NeuralNetworkClassifier(neural_network=qnn,\n",
    "                              loss=CrossEntropyLoss(), #log of ...\n",
    "                              one_hot=True,\n",
    "                              optimizer=spsa_opt,\n",
    "                              initial_point=initial_point)\n",
    "\n",
    "\n",
    "x_train_norm = np.array([x/np.linalg.norm(x) for x in x_train]) # normalizing or not ... can depend on the data set you can try both\n",
    "\n",
    "vqc = vqc.fit(x_train_norm, y_train_1h)"
   ]
  },
  {
   "cell_type": "code",
   "execution_count": 65,
   "id": "f03ad8ef",
   "metadata": {},
   "outputs": [
    {
     "name": "stdout",
     "output_type": "stream",
     "text": [
      "Score on the normalized train set 0.8978102189781022\n",
      "Score on the normalized test set 0.8816855753646677\n"
     ]
    }
   ],
   "source": [
    "score_train_norm = vqc.score(x_train_norm, y_train_1h)\n",
    "print(f'Score on the normalized train set {score_train_norm}')\n",
    "\n",
    "x_test_norm = np.array([x/np.linalg.norm(x) for x in x_test]) # normalizing or not ... can depend on the data set you can try both\n",
    "score_test_norm = vqc.score(x_test_norm, y_test_1h)\n",
    "print(f'Score on the normalized test set {score_test_norm}')"
   ]
  },
  {
   "cell_type": "code",
   "execution_count": 66,
   "id": "1f592aa5",
   "metadata": {},
   "outputs": [
    {
     "data": {
      "text/plain": [
       "[<matplotlib.lines.Line2D at 0x2814b1cca90>]"
      ]
     },
     "execution_count": 66,
     "metadata": {},
     "output_type": "execute_result"
    },
    {
     "data": {
      "image/png": "[encoded data removed]",
      "text/plain": [
       "<Figure size 432x288 with 1 Axes>"
      ]
     },
     "metadata": {
      "needs_background": "light"
     },
     "output_type": "display_data"
    }
   ],
   "source": [
    "plt.plot(loss_recorder)"
   ]
  },
  {
   "cell_type": "markdown",
   "id": "3d8c5646",
   "metadata": {},
   "source": [
    "### 3.1.3. Results Discussion"
   ]
  },
  {
   "cell_type": "markdown",
   "id": "118209d7",
   "metadata": {},
   "source": [
    "## 3.2. Opflow QNN"
   ]
  },
  {
   "cell_type": "markdown",
   "id": "dc3f111b",
   "metadata": {},
   "source": [
    "### 3.2.1. Define measurement operator and circuit state function"
   ]
  },
  {
   "cell_type": "code",
   "execution_count": 64,
   "id": "fdf5a5b8",
   "metadata": {},
   "outputs": [],
   "source": [
    "from qiskit.opflow import StateFn, Gradient, I, Z"
   ]
  },
  {
   "cell_type": "code",
   "execution_count": 65,
   "id": "b06f0d2d",
   "metadata": {},
   "outputs": [
    {
     "data": {
      "text/plain": [
       "PauliOp(Pauli('IIIZ'), coeff=1.0)"
      ]
     },
     "execution_count": 65,
     "metadata": {},
     "output_type": "execute_result"
    }
   ],
   "source": [
    "obs_parity = Z ^ feature_dim\n",
    "obs_one_qubit = I ^ (feature_dim - 1) ^ Z\n",
    "obs_one_qubit"
   ]
  },
  {
   "cell_type": "code",
   "execution_count": 66,
   "id": "d39e1f9b",
   "metadata": {},
   "outputs": [
    {
     "data": {
      "image/png": "[encoded data removed]",
      "text/plain": [
       "<Figure size 1497.59x529.76 with 1 Axes>"
      ]
     },
     "execution_count": 66,
     "metadata": {},
     "output_type": "execute_result"
    }
   ],
   "source": [
    "#fmap_z_op = get_z_feature_map(feature_dim, 3)\n",
    "#var_circuit_op = fmap_z_op.compose(ansatz_tl)\n",
    "\n",
    "#fmap_zz_op = get_zz_feature_map(feature_dim, 3)\n",
    "#var_circuit_op = fmap_zz_op.compose(ansatz_tl)\n",
    "\n",
    "mymap_op = get_my_map(feature_dim, 2)\n",
    "var_circuit_op = mymap_op.compose(ansatz_tl)\n",
    "\n",
    "\n",
    "var_circuit_op.draw('mpl',scale=2)"
   ]
  },
  {
   "cell_type": "code",
   "execution_count": 67,
   "id": "b7b258c6",
   "metadata": {},
   "outputs": [
    {
     "data": {
      "text/plain": [
       "ComposedOp([OperatorStateFn(PauliOp(Pauli('IIIZ'), coeff=1.0), coeff=1.0, is_measurement=True), CircuitStateFn(<qiskit.circuit.quantumcircuit.QuantumCircuit object at 0x000002034FA53610>, coeff=1.0, is_measurement=False)], coeff=1.0, abelian=False)"
      ]
     },
     "execution_count": 67,
     "metadata": {},
     "output_type": "execute_result"
    }
   ],
   "source": [
    "operator = ~StateFn(obs_one_qubit) @ StateFn(var_circuit_op)\n",
    "operator"
   ]
  },
  {
   "cell_type": "code",
   "execution_count": 68,
   "id": "9eeddd5d",
   "metadata": {},
   "outputs": [],
   "source": [
    "gradient = Gradient(grad_method=\"param_shift\")\n",
    "op_qnn = OpflowQNN(operator,\n",
    "                   #input_params=fmap_z_op.parameters,\n",
    "                   input_params=mymap_op.parameters,\n",
    "                   weight_params=ansatz_tl.parameters,\n",
    "                   gradient=gradient,\n",
    "                   quantum_instance=qinst_qasm)"
   ]
  },
  {
   "cell_type": "markdown",
   "id": "6463ed1d",
   "metadata": {},
   "source": [
    "### Forward pass"
   ]
  },
  {
   "cell_type": "code",
   "execution_count": 69,
   "id": "7eea1d1e",
   "metadata": {},
   "outputs": [
    {
     "name": "stdout",
     "output_type": "stream",
     "text": [
      "(1, 1)\n"
     ]
    }
   ],
   "source": [
    "weights = np.random.random(len(ansatz_tl.parameters))\n",
    "output = op_qnn.forward(x_train[0], weights)\n",
    "print(output.shape)"
   ]
  },
  {
   "cell_type": "markdown",
   "id": "328c4d1d",
   "metadata": {},
   "source": [
    "### Backward pass"
   ]
  },
  {
   "cell_type": "code",
   "execution_count": 64,
   "id": "06a1a8d8",
   "metadata": {},
   "outputs": [
    {
     "name": "stdout",
     "output_type": "stream",
     "text": [
      "(1, 1, 16)\n"
     ]
    },
    {
     "data": {
      "text/plain": [
       "array([[[-0.46582031, -0.00732422, -0.00390625,  0.01757813,\n",
       "          0.04003906,  0.00878906, -0.01855469,  0.00830078,\n",
       "         -0.83789062,  0.02880859,  0.00732422,  0.01318359,\n",
       "         -0.00683594, -0.01318359, -0.00244141, -0.01220703]]])"
      ]
     },
     "execution_count": 64,
     "metadata": {},
     "output_type": "execute_result"
    }
   ],
   "source": [
    "_, update = op_qnn.backward(x_train[0], weights)\n",
    "print(update.shape)\n",
    "update"
   ]
  },
  {
   "cell_type": "markdown",
   "id": "9ca7c675",
   "metadata": {},
   "source": [
    "### 3.1.2. Training Implementation"
   ]
  },
  {
   "cell_type": "code",
   "execution_count": 70,
   "id": "f8719976",
   "metadata": {},
   "outputs": [],
   "source": [
    "from qiskit.algorithms.optimizers import GradientDescent"
   ]
  },
  {
   "cell_type": "code",
   "execution_count": 71,
   "id": "2820a2bc",
   "metadata": {},
   "outputs": [
    {
     "data": {
      "text/plain": [
       "(80,)"
      ]
     },
     "execution_count": 71,
     "metadata": {},
     "output_type": "execute_result"
    }
   ],
   "source": [
    "y_train_pm = np.array([-1 if y==0 else y for y in y_train])\n",
    "y_test_pm = np.array([-1 if y==0 else y for y in y_test])\n",
    "y_train.shape"
   ]
  },
  {
   "cell_type": "code",
   "execution_count": 72,
   "id": "8d907638",
   "metadata": {},
   "outputs": [
    {
     "name": "stdout",
     "output_type": "stream",
     "text": [
      "1 - 109.27603054046631\n",
      "2 - 108.25804901123047\n",
      "3 - 106.33079814910889\n",
      "4 - 104.87362766265869\n",
      "5 - 101.9281587600708\n",
      "6 - 97.71057415008545\n",
      "7 - 90.23495197296143\n",
      "8 - 83.41075992584229\n",
      "9 - 80.60181045532227\n",
      "10 - 79.26840400695801\n",
      "11 - 79.95791816711426\n",
      "12 - 80.30300807952881\n",
      "13 - 80.20854091644287\n",
      "14 - 79.80421257019043\n",
      "15 - 79.60912609100342\n",
      "16 - 79.73513221740723\n",
      "17 - 79.49081230163574\n",
      "18 - 79.88297939300537\n",
      "19 - 79.32025814056396\n",
      "20 - 80.02000522613525\n",
      "21 - 79.58462333679199\n",
      "22 - 78.97389793395996\n",
      "23 - 79.08813285827637\n",
      "24 - 79.29561614990234\n",
      "25 - 79.15980339050293\n",
      "26 - 79.86717987060547\n",
      "27 - 78.74774742126465\n",
      "28 - 79.38510417938232\n",
      "29 - 78.82346248626709\n",
      "30 - 79.52055835723877\n"
     ]
    }
   ],
   "source": [
    "max_itr = 30\n",
    "gd_opt = GradientDescent(maxiter=max_itr, callback=callback)\n",
    "loss_recorder = []\n",
    "initial_point = np.random.random((len(ansatz_tl.parameters),))\n",
    "op_vqc = NeuralNetworkClassifier(neural_network=op_qnn,\n",
    "                                 loss=L2Loss(),\n",
    "                                 one_hot=False,\n",
    "                                 optimizer=gd_opt,\n",
    "                                 initial_point=initial_point)\n",
    "\n",
    "op_vqc = op_vqc.fit(x_train, y_train_pm)"
   ]
  },
  {
   "cell_type": "code",
   "execution_count": 73,
   "id": "b0bf540d",
   "metadata": {},
   "outputs": [
    {
     "name": "stdout",
     "output_type": "stream",
     "text": [
      "Score on the train set 0.5125\n",
      "Score on the test set 0.65\n"
     ]
    }
   ],
   "source": [
    "score_train = op_vqc.score(x_train, y_train_pm)\n",
    "score_test = op_vqc.score(x_test, y_test_pm)\n",
    "print(f'Score on the train set {score_train}')\n",
    "print(f'Score on the test set {score_test}')"
   ]
  },
  {
   "cell_type": "code",
   "execution_count": 50,
   "id": "d046cfd4",
   "metadata": {},
   "outputs": [
    {
     "data": {
      "text/plain": [
       "[<matplotlib.lines.Line2D at 0x1afb8c0f3d0>]"
      ]
     },
     "execution_count": 50,
     "metadata": {},
     "output_type": "execute_result"
    },
    {
     "data": {
      "image/png": "[encoded data removed]",
      "text/plain": [
       "<Figure size 432x288 with 1 Axes>"
      ]
     },
     "metadata": {
      "needs_background": "light"
     },
     "output_type": "display_data"
    }
   ],
   "source": [
    "plt.plot(loss_recorder)"
   ]
  },
  {
   "cell_type": "markdown",
   "id": "6e5fbade",
   "metadata": {},
   "source": [
    "### 3.1.3. Results Discussion"
   ]
  },
  {
   "cell_type": "markdown",
   "id": "2c304add",
   "metadata": {},
   "source": [
    "# 4. Quantum Support Vector Machine (if have time)"
   ]
  },
  {
   "cell_type": "markdown",
   "id": "7e272c73",
   "metadata": {},
   "source": [
    "## 4.1. Define feature map(s) (kernel)"
   ]
  },
  {
   "cell_type": "markdown",
   "id": "8c3a113c",
   "metadata": {},
   "source": [
    "## 4.2. Prepare all circuits and obtain kernel matrix"
   ]
  },
  {
   "cell_type": "markdown",
   "id": "f8e771ca",
   "metadata": {},
   "source": [
    "## 4.3. Training Implementation (using sci-kit's SVC class)"
   ]
  },
  {
   "cell_type": "markdown",
   "id": "c546e3f3",
   "metadata": {},
   "source": [
    "## 4.4. Results Discussion"
   ]
  },
  {
   "cell_type": "markdown",
   "id": "fef11e93",
   "metadata": {},
   "source": [
    "# 5. Classical Methods (if have time)"
   ]
  },
  {
   "cell_type": "markdown",
   "id": "42d1a89d",
   "metadata": {},
   "source": [
    "## 5.1. Classical SVM"
   ]
  },
  {
   "cell_type": "markdown",
   "id": "78756e99",
   "metadata": {},
   "source": [
    "## 5.2. Classical Neural Network"
   ]
  },
  {
   "cell_type": "markdown",
   "id": "1f3dbdd2",
   "metadata": {},
   "source": [
    "# 5. Summary & Conclusion"
   ]
  },
  {
   "cell_type": "markdown",
   "id": "3a49f0df",
   "metadata": {},
   "source": [
    "Summarize and reflect on all aspects and observations of the project. Did we end up with a decent classifier?"
   ]
  },
  {
   "cell_type": "code",
   "execution_count": null,
   "id": "29e3a412",
   "metadata": {},
   "outputs": [],
   "source": []
  }
 ],
 "metadata": {
  "kernelspec": {
   "display_name": "Python 3 (ipykernel)",
   "language": "python",
   "name": "python3"
  },
  "language_info": {
   "codemirror_mode": {
    "name": "ipython",
    "version": 3
   },
   "file_extension": ".py",
   "mimetype": "text/x-python",
   "name": "python",
   "nbconvert_exporter": "python",
   "pygments_lexer": "ipython3",
   "version": "3.9.7"
  },
  "toc": {
   "base_numbering": 1,
   "nav_menu": {},
   "number_sections": false,
   "sideBar": true,
   "skip_h1_title": false,
   "title_cell": "Table of Contents",
   "title_sidebar": "Contents",
   "toc_cell": false,
   "toc_position": {},
   "toc_section_display": true,
   "toc_window_display": false
  }
 },
 "nbformat": 4,
 "nbformat_minor": 5
}
